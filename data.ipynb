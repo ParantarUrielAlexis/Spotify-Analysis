{
 "cells": [
  {
   "cell_type": "code",
   "execution_count": 5,
   "metadata": {},
   "outputs": [],
   "source": [
    "# imported nana tanan ayaw na pag import pisti yawa\n",
    "import numpy as np\n",
    "import pandas as pd\n",
    "import matplotlib.pyplot as plt\n",
    "import seaborn as sns\n",
    "from datetime import datetime\n"
   ]
  },
  {
   "cell_type": "code",
   "execution_count": 7,
   "metadata": {},
   "outputs": [
    {
     "name": "stdout",
     "output_type": "stream",
     "text": [
      "<class 'pandas.core.frame.DataFrame'>\n",
      "RangeIndex: 34219 entries, 0 to 34218\n",
      "Data columns (total 9 columns):\n",
      " #   Column            Non-Null Count  Dtype  \n",
      "---  ------            --------------  -----  \n",
      " 0   main.aqi          34219 non-null  float64\n",
      " 1   components.co     34219 non-null  float64\n",
      " 2   components.no     34219 non-null  float64\n",
      " 3   components.o3     34219 non-null  float64\n",
      " 4   components.so2    34219 non-null  float64\n",
      " 5   components.pm2_5  34219 non-null  float64\n",
      " 6   components.pm10   34219 non-null  float64\n",
      " 7   components.nh3    34219 non-null  float64\n",
      " 8   city_name         34219 non-null  object \n",
      "dtypes: float64(8), object(1)\n",
      "memory usage: 2.3+ MB\n",
      "           main.aqi  components.co  components.no  components.o3  \\\n",
      "count  34219.000000   34219.000000   34219.000000   34219.000000   \n",
      "mean       1.637394     489.998768       1.238858      28.759228   \n",
      "std        1.026660     443.169741       6.219306      27.765025   \n",
      "min        1.000000     136.850000       0.000000       0.000000   \n",
      "25%        1.000000     273.710000       0.010000      11.800000   \n",
      "50%        1.000000     333.790000       0.050000      23.250000   \n",
      "75%        2.000000     507.360000       0.220000      37.550000   \n",
      "max        5.000000    5126.950000     126.960000     343.320000   \n",
      "\n",
      "       components.so2  components.pm2_5  components.pm10  components.nh3  \n",
      "count    34219.000000      34219.000000     34219.000000    34219.000000  \n",
      "mean         4.233641         14.707393        17.830166        4.416526  \n",
      "std          7.946603         25.309414        29.799420        6.533856  \n",
      "min          0.030000          0.500000         0.510000        0.000000  \n",
      "25%          0.500000          2.210000         2.980000        0.750000  \n",
      "50%          1.420000          5.590000         7.280000        1.950000  \n",
      "75%          4.230000         15.345000        18.350000        5.070000  \n",
      "max        125.890000        300.310000       322.870000       70.930000  \n"
     ]
    }
   ],
   "source": [
    "#3 data exploration\n",
    "\n",
    "file_path = '202408_CombinedData.csv'\n",
    "data = pd.read_csv(file_path)\n",
    "\n",
    "#info\n",
    "summary_info = data[['main.aqi', 'components.co',  'components.no', 'components.o3', 'components.so2','components.pm2_5', 'components.pm10', 'components.nh3', 'city_name']].info()\n",
    "\n",
    "#describe\n",
    "summary_stats = data[['main.aqi', 'components.co',  'components.no', 'components.o3', 'components.so2','components.pm2_5', 'components.pm10', 'components.nh3', 'city_name']].describe()\n",
    "\n",
    "print(summary_stats)"
   ]
  },
  {
   "cell_type": "code",
   "execution_count": 21,
   "metadata": {},
   "outputs": [
    {
     "name": "stdout",
     "output_type": "stream",
     "text": [
      "                        mean  median           mode     std_dev  \\\n",
      "main.aqi            1.637394     1.0   (1.0, 21471)     1.02666   \n",
      "components.co     489.998768  333.79  (267.03, 788)  443.169741   \n",
      "components.no       1.238858    0.05    (0.0, 8421)    6.219306   \n",
      "components.o3      28.759228   23.25     (0.0, 744)   27.765025   \n",
      "components.so2      4.233641    1.42    (0.24, 277)    7.946603   \n",
      "components.pm2_5   14.707393    5.59     (0.5, 310)   25.309414   \n",
      "components.pm10    17.830166    7.28     (2.15, 60)    29.79942   \n",
      "components.nh3      4.416526    1.95     (0.0, 787)    6.533856   \n",
      "\n",
      "                       variance     min      max   range 25th_percentile  \\\n",
      "main.aqi                1.05403     1.0      5.0     4.0             1.0   \n",
      "components.co     196399.419776  136.85  5126.95  4990.1          273.71   \n",
      "components.no         38.679773     0.0   126.96  126.96            0.01   \n",
      "components.o3        770.896618     0.0   343.32  343.32            11.8   \n",
      "components.so2        63.148497    0.03   125.89  125.86             0.5   \n",
      "components.pm2_5     640.566437     0.5   300.31  299.81            2.21   \n",
      "components.pm10      888.005409    0.51   322.87  322.36            2.98   \n",
      "components.nh3        42.691272     0.0    70.93   70.93            0.75   \n",
      "\n",
      "                 50th_percentile 75th_percentile  \n",
      "main.aqi                     1.0             2.0  \n",
      "components.co             333.79          507.36  \n",
      "components.no               0.05            0.22  \n",
      "components.o3              23.25           37.55  \n",
      "components.so2              1.42            4.23  \n",
      "components.pm2_5            5.59          15.345  \n",
      "components.pm10             7.28           18.35  \n",
      "components.nh3              1.95            5.07  \n"
     ]
    }
   ],
   "source": [
    "from scipy import stats\n",
    "\n",
    "\n",
    "file_path = '202408_CombinedData.csv'\n",
    "data = pd.read_csv(file_path)\n",
    "\n",
    "# columns for analysis\n",
    "numerical_columns = ['main.aqi', 'components.co', 'components.no', 'components.o3',\n",
    "                     'components.so2', 'components.pm2_5', 'components.pm10', 'components.nh3']\n",
    "\n",
    "\n",
    "statistics_numpy = {}\n",
    "\n",
    "# basic descriptive statistics\n",
    "for column in numerical_columns:\n",
    "    column_data = data[column].dropna()\n",
    "    stats_dict = {\n",
    "        'mean': np.mean(column_data),\n",
    "        'median': np.median(column_data),\n",
    "        'mode': stats.mode(column_data),\n",
    "        'std_dev': np.std(column_data, ddof=1),\n",
    "        'variance': np.var(column_data, ddof=1),\n",
    "        'min': np.min(column_data),\n",
    "        'max': np.max(column_data),\n",
    "        'range': np.ptp(column_data),\n",
    "        '25th_percentile': np.percentile(column_data, 25),\n",
    "        '50th_percentile': np.percentile(column_data, 50),\n",
    "        '75th_percentile': np.percentile(column_data, 75)\n",
    "    }\n",
    "    statistics_numpy[column] = stats_dict\n",
    "\n",
    "# better viewing\n",
    "statistics_numpy_df = pd.DataFrame(statistics_numpy).T\n",
    "\n",
    "\n",
    "print(statistics_numpy_df)"
   ]
  }
 ],
 "metadata": {
  "kernelspec": {
   "display_name": "Python 3",
   "language": "python",
   "name": "python3"
  },
  "language_info": {
   "codemirror_mode": {
    "name": "ipython",
    "version": 3
   },
   "file_extension": ".py",
   "mimetype": "text/x-python",
   "name": "python",
   "nbconvert_exporter": "python",
   "pygments_lexer": "ipython3",
   "version": "3.9.13"
  }
 },
 "nbformat": 4,
 "nbformat_minor": 2
}
